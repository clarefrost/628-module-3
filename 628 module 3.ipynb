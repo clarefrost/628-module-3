{
 "cells": [
  {
   "cell_type": "markdown",
   "metadata": {},
   "source": [
    "# Read data"
   ]
  },
  {
   "cell_type": "code",
   "execution_count": null,
   "metadata": {},
   "outputs": [],
   "source": [
    "import pandas as pd\n",
    "def readjson(filepath,count):\n",
    "    file = open(filepath, 'r', encoding='utf-8') \n",
    "    dat={}\n",
    "    for i in range(1,count+1):\n",
    "        line=file.readline()\n",
    "        dat_new=json.loads(line)\n",
    "        if i==1:\n",
    "            dat=dat_new\n",
    "            for key in dat :\n",
    "                dat[key]=[dat[key]]\n",
    "        else:\n",
    "            for key in dat:\n",
    "                dat[key].append(dat_new[key])\n",
    "    file.close()\n",
    "    data=pd.DataFrame(dat)\n",
    "    return data\n",
    "\n",
    "reviews=readjson(\"C:/Users/58479/Desktop/628/module3/Stat628/Stat628/review.json\",6685900)\n",
    "reviews.head(10)"
   ]
  }
 ],
 "metadata": {
  "kernelspec": {
   "display_name": "Python 3",
   "language": "python",
   "name": "python3"
  },
  "language_info": {
   "codemirror_mode": {
    "name": "ipython",
    "version": 3
   },
   "file_extension": ".py",
   "mimetype": "text/x-python",
   "name": "python",
   "nbconvert_exporter": "python",
   "pygments_lexer": "ipython3",
   "version": "3.7.3"
  }
 },
 "nbformat": 4,
 "nbformat_minor": 2
}
