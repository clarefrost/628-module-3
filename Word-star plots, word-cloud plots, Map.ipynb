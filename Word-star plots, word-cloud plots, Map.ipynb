{
 "cells": [
  {
   "cell_type": "markdown",
   "metadata": {},
   "source": [
    "### word star plot"
   ]
  },
  {
   "cell_type": "code",
   "execution_count": null,
   "metadata": {},
   "outputs": [],
   "source": [
    "import matplotlib.pyplot as plt\n",
    "import numpy as np\n",
    "def PlotWordStar(words,source):\n",
    "    data = source['stars_review']\n",
    "    text = source['review_text']\n",
    "    data = [int(s) for s in data]\n",
    "    data = pd.DataFrame({\"stars\":data})\n",
    "    for i in words:\n",
    "        init = []\n",
    "        for s in text:\n",
    "            init.append(s.count(i))\n",
    "        init = pd.DataFrame({i:init})\n",
    "        data = pd.concat([data,init],axis=1)\n",
    "    fre = [0,0,0,0,0]\n",
    "    star = [0,0,0,0,0]\n",
    "    for word in words:\n",
    "        fre = [0,0,0,0,0]\n",
    "        star = [0,0,0,0,0]\n",
    "        for index, row in data.iterrows():\n",
    "            fre[int(row[\"stars\"]-1)] += int(row[word]>0)\n",
    "            star[int(row[\"stars\"]-1)] += 1\n",
    "        r,c = data.shape\n",
    "        fre = np.array(fre)/r/(5*np.array(star)/r)\n",
    "        plt.bar([\"1\",\"2\",\"3\",\"4\",\"5\"],fre)\n",
    "        plt.title(word)"
   ]
  },
  {
   "cell_type": "code",
   "execution_count": null,
   "metadata": {},
   "outputs": [],
   "source": [
    "PlotWordStar([\"beef\"],business_review_user)"
   ]
  },
  {
   "cell_type": "markdown",
   "metadata": {},
   "source": [
    "### word cloud plot"
   ]
  },
  {
   "cell_type": "code",
   "execution_count": null,
   "metadata": {},
   "outputs": [],
   "source": [
    "from collections import Counter\n",
    "\n",
    "high_freq = {}\n",
    "c = Counter(tuple(all_reviews))\n",
    "for word_freq in c.most_common(400):\n",
    "    word, freq = word_freq\n",
    "    high_freq[word] = float(freq)\n",
    "    #print(word)\n",
    "    \n",
    "from wordcloud import WordCloud\n",
    "import matplotlib.pyplot as plt \n",
    "import numpy as np\n",
    "from PIL import Image\n",
    "import urllib\n",
    "import requests\n",
    "mask = np.array(Image.open(requests.get('http://www.clker.com/cliparts/O/i/x/Y/q/P/yellow-house-hi.png', stream=True).raw))\n",
    "#mask = plt.imread(\"bg.png\")\n",
    "#imageColors = ImageColorGenerator(mask)\n",
    "\n",
    "# This function takes in your text and your mask and generates a wordcloud. \n",
    "\n",
    "#word_cloud = WordCloud(width = 512, height = 512, background_color='white', mask=mask).generate(\"\".join(all_review))\n",
    "\n",
    "wordcloud = WordCloud(width = 1600, height = 1000, \n",
    "                      background_color ='white', \n",
    "                      max_words = 400,\n",
    "                      #color_func = imageColors,\n",
    "                      #mask = mask, \n",
    "                      max_font_size = 300).fit_words(high_freq)\n",
    "\n",
    "plt.figure(figsize=(10,8),facecolor = 'white', edgecolor='blue')\n",
    "plt.imshow(wordcloud)\n",
    "plt.axis('off')\n",
    "plt.tight_layout(pad=0)\n",
    "plt.show()\n",
    "\n",
    "    \n",
    "#Run the following to generate your wordcloud\n",
    "\n",
    "\n",
    "#word_cloud.to_file(\"../M3Data/word_cloud.png\")"
   ]
  },
  {
   "cell_type": "markdown",
   "metadata": {},
   "source": [
    "### Map"
   ]
  },
  {
   "cell_type": "code",
   "execution_count": 1,
   "metadata": {},
   "outputs": [
    {
     "ename": "NameError",
     "evalue": "name 'business_keep' is not defined",
     "output_type": "error",
     "traceback": [
      "\u001b[1;31m---------------------------------------------------------------------------\u001b[0m",
      "\u001b[1;31mNameError\u001b[0m                                 Traceback (most recent call last)",
      "\u001b[1;32m<ipython-input-1-5c8641fa50f1>\u001b[0m in \u001b[0;36m<module>\u001b[1;34m()\u001b[0m\n\u001b[0;32m      2\u001b[0m \u001b[1;33m\u001b[0m\u001b[0m\n\u001b[0;32m      3\u001b[0m \u001b[1;33m\u001b[0m\u001b[0m\n\u001b[1;32m----> 4\u001b[1;33m \u001b[0mMadison_restaurant\u001b[0m \u001b[1;33m=\u001b[0m \u001b[0mbusiness_keep\u001b[0m\u001b[1;33m[\u001b[0m\u001b[0mbusiness_keep\u001b[0m\u001b[1;33m.\u001b[0m\u001b[0mcity\u001b[0m \u001b[1;33m==\u001b[0m \u001b[1;34m'Madison'\u001b[0m\u001b[1;33m]\u001b[0m\u001b[1;33m\u001b[0m\u001b[0m\n\u001b[0m\u001b[0;32m      5\u001b[0m \u001b[0mMadison_restaurant\u001b[0m \u001b[1;33m=\u001b[0m \u001b[0mMadison_restaurant\u001b[0m\u001b[1;33m[\u001b[0m\u001b[1;33m[\u001b[0m\u001b[1;34m'name'\u001b[0m\u001b[1;33m,\u001b[0m \u001b[1;34m'latitude'\u001b[0m\u001b[1;33m,\u001b[0m \u001b[1;34m'longitude'\u001b[0m\u001b[1;33m,\u001b[0m \u001b[1;34m'stars_business'\u001b[0m\u001b[1;33m,\u001b[0m \u001b[1;34m'review_count_business'\u001b[0m\u001b[1;33m]\u001b[0m\u001b[1;33m]\u001b[0m\u001b[1;33m\u001b[0m\u001b[0m\n",
      "\u001b[1;31mNameError\u001b[0m: name 'business_keep' is not defined"
     ]
    }
   ],
   "source": [
    "#At first, we need to count restaurants in each city\n",
    "\n",
    "\n",
    "Madison_restaurant = business_keep[business_keep.city == 'Madison']\n",
    "Madison_restaurant = Madison_restaurant[['name', 'latitude', 'longitude', 'stars_business', 'review_count_business']]\n",
    "\n",
    "import folium\n",
    "def generateBaseMap(default_location=[43.0731, -89.4012], default_zoom_start=12):\n",
    "    base_map = folium.Map(location=default_location, control_scale=True, zoom_start=default_zoom_start, tiles='cartodbpositron')\n",
    "    return base_map\n",
    "m = generateBaseMap()\n",
    "colors = ['black', 'purple', '#FF1999', '#009E73', '#F0E442']\n",
    "for j in range(len(colors)):\n",
    "    subset = Madison_restaurant[(Madison_restaurant.stars_business > j) & (Madison_restaurant.stars_business <= (j+1))]\n",
    "    for i in range(len(subset)):\n",
    "        folium.Circle(\n",
    "          location=(subset.iloc[i]['latitude'], subset.iloc[i]['longitude']),\n",
    "          popup=subset.iloc[i]['name'],\n",
    "          radius=int(subset.iloc[i]['review_count_business']**(float(1/2))*10),\n",
    "          #radius = 10,\n",
    "          color=None,\n",
    "          fill=True,\n",
    "          #fill_color='purple',\n",
    "          fill_color=colors[j],\n",
    "          fill_opacity=0.8\n",
    "        ).add_to(m)\n",
    "        #print(subset.iloc[i]['longitude'])\n",
    "legend_html =   '''\n",
    "                <div style=\"position: fixed; \n",
    "                            bottom: 70px; left: 70px; width: 90px; height: 120px; \n",
    "                            border:2px solid grey; z-index:9999; font-size:11px;\n",
    "                            \">&nbsp; Color Legend <br>\n",
    "                              &nbsp; Star 4-5 &nbsp; <i class=\"fa fa-circle fa-2x\" style=\"color:#F0E442\"></i><br>\n",
    "                              &nbsp; Star 3-4 &nbsp; <i class=\"fa fa-circle fa-2x\" style=\"color:#009E73\"></i><br>\n",
    "                              &nbsp; Star 2-3 &nbsp; <i class=\"fa fa-circle fa-2x\" style=\"color:#FF1999\"></i><br>\n",
    "                              &nbsp; Star 1-2 &nbsp; <i class=\"fa fa-circle fa-2x\" style=\"color:purple\"></i><br>\n",
    "                </div>\n",
    "                ''' \n",
    "\n",
    "m.get_root().html.add_child(folium.Element(legend_html))\n",
    "m\n",
    "m.save('../M3Data/Map.html')\n"
   ]
  },
  {
   "cell_type": "code",
   "execution_count": null,
   "metadata": {},
   "outputs": [],
   "source": []
  }
 ],
 "metadata": {
  "kernelspec": {
   "display_name": "Python 3",
   "language": "python",
   "name": "python3"
  },
  "language_info": {
   "codemirror_mode": {
    "name": "ipython",
    "version": 3
   },
   "file_extension": ".py",
   "mimetype": "text/x-python",
   "name": "python",
   "nbconvert_exporter": "python",
   "pygments_lexer": "ipython3",
   "version": "3.6.5"
  }
 },
 "nbformat": 4,
 "nbformat_minor": 2
}
