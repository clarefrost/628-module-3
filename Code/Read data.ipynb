{
 "cells": [
  {
   "cell_type": "code",
   "execution_count": null,
   "metadata": {},
   "outputs": [],
   "source": [
    "import json\n",
    "import pandas as pd\n",
    "def readjson(filepath):\n",
    "    file = open(filepath, 'r', encoding='utf-8')\n",
    "    dat={}\n",
    "    for i,line in enumerate(file,start=1):\n",
    "        dat_new=json.loads(line)\n",
    "        if i==1:\n",
    "            dat=dat_new\n",
    "            for key in dat :\n",
    "                dat[key]=[dat[key]]\n",
    "        else:\n",
    "            for key in dat:\n",
    "                dat[key].append(dat_new[key])\n",
    "    file.close()\n",
    "    data=pd.DataFrame(dat)\n",
    "    return data\n",
    "reviews=readjson(\"../M3Data/review.json\")\n",
    "reviews.head(10)"
   ]
  },
  {
   "cell_type": "code",
   "execution_count": null,
   "metadata": {},
   "outputs": [],
   "source": [
    "user=readjson(\"../M3Data/user.json\")\n",
    "user.head(10)"
   ]
  },
  {
   "cell_type": "code",
   "execution_count": null,
   "metadata": {},
   "outputs": [],
   "source": [
    "tip=readjson(\"../M3Data/tip.json\")\n",
    "tip.head(10)"
   ]
  },
  {
   "cell_type": "code",
   "execution_count": null,
   "metadata": {},
   "outputs": [],
   "source": [
    "business=readjson(\"../M3Data/business.json\")\n",
    "\n",
    "business.head(10)"
   ]
  },
  {
   "cell_type": "markdown",
   "metadata": {},
   "source": [
    "### Select American Traditional food as target data set."
   ]
  },
  {
   "cell_type": "code",
   "execution_count": null,
   "metadata": {},
   "outputs": [],
   "source": [
    "business.groupby(['city'])['city'].value_counts().sort_values(ascending=False)[:20]\n",
    "business_amer=business.loc[(business['categories'].str.contains(\"American \\(Traditional\\)\",na=False))]\n",
    "business_amer.head(10)"
   ]
  },
  {
   "cell_type": "code",
   "execution_count": null,
   "metadata": {},
   "outputs": [],
   "source": [
    "business_keep=business_amer.drop(['state','postal_code','hours','address'], axis=1)\n",
    "business_keep.rename(columns={'review_count':'review_count_business','stars':'stars_business'},inplace=True) \n",
    "\n",
    "reviews_keep=reviews.drop([\"funny\",\"cool\"], axis=1)\n",
    "reviews_keep.rename(columns={'stars':'stars_review','text':'review_text','date':'date_review'},inplace=True) \n",
    "\n",
    "user_keep=user.drop([\"name\",\"yelping_since\",\"funny\",\"cool\",\"friends\",\"compliment_more\",\"compliment_profile\",\"compliment_cute\",\"compliment_list\",\"compliment_note\",\"compliment_plain\",\"compliment_cool\",\"compliment_funny\",\"compliment_hot\",\"compliment_writer\",\"compliment_photos\"], axis=1)\n",
    "\n",
    "tip_keep=tip.drop('date', axis=1)\n",
    "tip_keep.rename(columns={'text':'review_tip','compliment_count':'compliment_count_tip'},inplace=True) \n"
   ]
  },
  {
   "cell_type": "markdown",
   "metadata": {},
   "source": [
    "### merge business, review, user together, select data whose date_review > 2015-01-01 00:00:00."
   ]
  },
  {
   "cell_type": "code",
   "execution_count": null,
   "metadata": {},
   "outputs": [],
   "source": [
    "business_review=pd.merge(business_keep, reviews_keep, how='inner',on=\"business_id\")\n",
    "business_review\n",
    "business_review_user=pd.merge(business_review, user_keep, how='left',on=\"user_id\")\n",
    "business_review_user\n",
    "business_review_user=business_review_user[business_review_user[\"date_review\"]>'2015-01-01 00:00:00']\n",
    "business_review_user"
   ]
  },
  {
   "cell_type": "markdown",
   "metadata": {},
   "source": [
    "### write data to csv files. "
   ]
  },
  {
   "cell_type": "code",
   "execution_count": null,
   "metadata": {},
   "outputs": [],
   "source": [
    "business_keep.to_csv(index=True,path_or_buf=\"./AmericanRestaurant.csv\")\n",
    "business_review_user.to_csv(index=True,path_or_buf=\"./merged_data.csv\")\n",
    "\n",
    "business_review_user.to_csv(index=True,path_or_buf=\"C:/Users/wkn98/stat628/628-module-3/merged_data.csv\")"
   ]
  },
  {
   "cell_type": "code",
   "execution_count": null,
   "metadata": {},
   "outputs": [],
   "source": [
    "from collections import Counter\n",
    "category=list(filter(None, business['categories'].values)) \n",
    "c = Counter((\", \".join(category).split(\", \")))\n",
    "cat=[]\n",
    "freq=[]\n",
    "for cat_freq in c.most_common(10):\n",
    "    cat_1, freq_1 = cat_freq\n",
    "    cat.append(cat_1)\n",
    "    freq.append(freq_1)\n",
    "print(cat, freq)\n",
    "plt.xticks(rotation=0)\n",
    "plt.barh(cat,freq)"
   ]
  },
  {
   "cell_type": "markdown",
   "metadata": {},
   "source": [
    "### Restaurant_category show plot"
   ]
  },
  {
   "cell_type": "code",
   "execution_count": null,
   "metadata": {},
   "outputs": [],
   "source": [
    "business_res=business_keep.loc[(business_keep['categories'].str.contains(\"Restaurant\",na=False))]\n",
    "\n",
    "category_res=list(filter(None, business_res['categories'].values)) \n",
    "\n",
    "def is_remove(x):\n",
    "    if x==\"Restaurants\" or x==\"Restaurants,Restaurants\" or x==\"Food\":\n",
    "        return False\n",
    "    else:\n",
    "        return True\n",
    "    \n",
    "category_res=\",\".join(category_res).split(\", \")\n",
    "category_res=list(filter(is_remove, category_res)) \n",
    "\n",
    "\n",
    "\n",
    "c = Counter(category_res)\n",
    "cat=[]\n",
    "freq=[]\n",
    "for cat_freq in c.most_common(10):\n",
    "    cat_1, freq_1 = cat_freq\n",
    "    cat.append(cat_1)\n",
    "    freq.append(freq_1)\n",
    "print(cat, freq)\n",
    "plt.xticks(rotation=0)\n",
    "plt.barh(cat,freq)\n",
    "plt.savefig('restaurant_category.pdf')"
   ]
  },
  {
   "cell_type": "code",
   "execution_count": null,
   "metadata": {},
   "outputs": [],
   "source": []
  },
  {
   "cell_type": "code",
   "execution_count": null,
   "metadata": {},
   "outputs": [],
   "source": []
  },
  {
   "cell_type": "code",
   "execution_count": null,
   "metadata": {},
   "outputs": [],
   "source": []
  }
 ],
 "metadata": {
  "kernelspec": {
   "display_name": "Python 3",
   "language": "python",
   "name": "python3"
  },
  "language_info": {
   "codemirror_mode": {
    "name": "ipython",
    "version": 3
   },
   "file_extension": ".py",
   "mimetype": "text/x-python",
   "name": "python",
   "nbconvert_exporter": "python",
   "pygments_lexer": "ipython3",
   "version": "3.6.5"
  }
 },
 "nbformat": 4,
 "nbformat_minor": 2
}
