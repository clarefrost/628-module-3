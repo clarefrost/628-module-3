{
 "cells": [
  {
   "cell_type": "markdown",
   "metadata": {},
   "source": [
    "### clean and transform attributes"
   ]
  },
  {
   "cell_type": "code",
   "execution_count": null,
   "metadata": {},
   "outputs": [],
   "source": [
    "import re\n",
    "import json\n",
    "import pandas as pd\n",
    "\n",
    "\n",
    "\n",
    "attributes = business_keep['attributes']\n",
    "\n",
    "pattern1 = re.compile(r\"\\'(.*?)\\'\")\n",
    "pattern2 = re.compile(r\": (.*?)[,}]\")\n",
    "\n",
    "attr = pd.DataFrame()\n",
    "for i in range(len(attributes)):#range(len(attributes))\n",
    "    sub_df = pd.DataFrame(attributes.iloc[i],index=[i])\n",
    "    #deal with sub-attributes \n",
    "    words = ['Ambience', 'BestNights', 'BusinessParking', 'GoodForMeal', 'Music']\n",
    "    for word in words:\n",
    "        if word in str(sub_df.columns):\n",
    "            sub_attr = pattern1.findall(np.array2string(sub_df[word].values))\n",
    "            sub_attr = [word + \"_\" + s for s in sub_attr]\n",
    "            sub_lvl = pattern2.findall(np.array2string(sub_df[word].values))\n",
    "            #check if it is empty\n",
    "            if not sub_lvl:\n",
    "                continue\n",
    "#             if word == 'Ambience':\n",
    "#                 print(sub_df)\n",
    "#                 print(sub_attr_lvl)\n",
    "#                 a = sub_attr\n",
    "#                 b = sub_lvl\n",
    "            sub_attr_lvl = pd.DataFrame.from_records([sub_lvl], columns = sub_attr)\n",
    "            sub_attr_lvl.index = range(i,i+1)\n",
    "            sub_df = sub_df.merge(sub_attr_lvl,left_index=True,right_index=True,sort=True)\n",
    "            sub_df = sub_df.drop(columns = word)\n",
    "    attr = pd.concat([attr,sub_df],sort=True)\n",
    "    \n",
    "attr_keep = pd.read_csv('./attr_keep.csv')"
   ]
  },
  {
   "cell_type": "code",
   "execution_count": null,
   "metadata": {},
   "outputs": [],
   "source": [
    "\n",
    "\n",
    "attr = pd.read_csv('./attr_keep.csv')\n",
    "len(attr)\n",
    "attr=attr.replace(to_replace=r\"u\\'(.*?)\\'\",value=r\"\\1\",regex=True)\n",
    "attr=attr.replace(to_replace=r\"\\'\",value=r\"\",regex=True)\n",
    "attr=attr.fillna(\"None\").astype('str') \n",
    "attr=attr.replace(to_replace=r\"none\",value=r\"None\",regex=True)\n",
    "for i in attr.columns:\n",
    "    print(set(attr[i]))\n",
    "attr.head(10)\n",
    "\n",
    "attr=pd.concat([business_keep[[\"stars_business\"]],attr],axis=1)\n",
    "attr.to_csv(index=True,path_or_buf=\"C:/Users/wkn98/stat628/628-module-3/attr_and_stars.csv\")\n",
    "\n"
   ]
  },
  {
   "cell_type": "markdown",
   "metadata": {},
   "source": [
    "# Then we use R to build model and give suggestions based on attributes. \n"
   ]
  },
  {
   "cell_type": "code",
   "execution_count": null,
   "metadata": {},
   "outputs": [],
   "source": []
  }
 ],
 "metadata": {
  "kernelspec": {
   "display_name": "Python 3",
   "language": "python",
   "name": "python3"
  },
  "language_info": {
   "codemirror_mode": {
    "name": "ipython",
    "version": 3
   },
   "file_extension": ".py",
   "mimetype": "text/x-python",
   "name": "python",
   "nbconvert_exporter": "python",
   "pygments_lexer": "ipython3",
   "version": "3.6.5"
  }
 },
 "nbformat": 4,
 "nbformat_minor": 2
}
