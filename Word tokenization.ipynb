{
 "cells": [
  {
   "cell_type": "markdown",
   "metadata": {},
   "source": [
    "### Word tokenization"
   ]
  },
  {
   "cell_type": "code",
   "execution_count": null,
   "metadata": {},
   "outputs": [],
   "source": [
    "import nltk\n",
    "from nltk.corpus import stopwords\n",
    "import sklearn\n",
    "import string\n",
    "#nltk.download('stopwords')\n",
    "\n",
    "#nltk.download('punkt')\n"
   ]
  },
  {
   "cell_type": "code",
   "execution_count": null,
   "metadata": {},
   "outputs": [],
   "source": [
    "star1_review=[]\n",
    "star2_review=[]\n",
    "star3_review=[]\n",
    "star4_review=[]\n",
    "star5_review=[]\n",
    "\n",
    "for i in range(len(business_review_user[\"stars_review\"])):\n",
    "    if int(business_review_user[\"stars_review\"].values[i])==1:\n",
    "        star1_review.append(business_review_user[\"review_text\"].values[i])\n",
    "    elif int(business_review_user[\"stars_review\"].values[i])==2:\n",
    "        star2_review.append(business_review_user[\"review_text\"].values[i])\n",
    "    elif int(business_review_user[\"stars_review\"].values[i])==3:\n",
    "        star3_review.append(business_review_user[\"review_text\"].values[i])\n",
    "    elif int(business_review_user[\"stars_review\"].values[i])==4:\n",
    "        star4_review.append(business_review_user[\"review_text\"].values[i])\n",
    "    elif int(business_review_user[\"stars_review\"].values[i])==5:\n",
    "        star5_review.append(business_review_user[\"review_text\"].values[i])\n",
    "        \n",
    "\n",
    "def filter_stop_words(words):\n",
    "    stops = set(stopwords.words('english'))\n",
    "    words = [word for word in words if word.lower() not in stops]\n",
    "    return words\n",
    "\n",
    "def token_review(review):\n",
    "    st1=\"\".join(review).lower()\n",
    "    st1_token=nltk.word_tokenize(st1)\n",
    "    st1_token=[''.join(i for i in s if i not in string.punctuation) for s in st1_token]\n",
    "    st1_token=filter_stop_words(st1_token)\n",
    "    st1_token=[s for s in st1_token if s]\n",
    "    return st1_token\n",
    "\n",
    "star1_token_review=token_review(star1_review)\n",
    "star2_token_review=token_review(star2_review)\n",
    "star3_token_review=token_review(star3_review)\n",
    "star4_token_review=token_review(star4_review)\n",
    "star5_token_review=token_review(star5_review)\n",
    "\n",
    "all_review=star1_token_review+star2_token_review+star3_token_review+star4_token_review+star5_token_review\n",
    "\n",
    "\n",
    "#print(all_review[:100])\n",
    "from nltk.stem import PorterStemmer \n",
    "ps = PorterStemmer()\n",
    "flag=0\n",
    "all_reviews = []\n",
    "for s in all_review:\n",
    "    if s in string.punctuation:\n",
    "        flag=0\n",
    "    if flag==1:\n",
    "        s='neg_'+ps.stem(s)\n",
    "        \n",
    "    if \"n't\" in s or \"nt\" in s:\n",
    "        s=\"not\"\n",
    "    if s==\"not\":\n",
    "        flag=1\n",
    "    all_reviews.append(s)\n",
    "all_reviews=[''.join(i for i in s if i not in string.punctuation or i==\"_\") for s in all_reviews]\n",
    "all_reviews=[s for s in all_reviews if s]"
   ]
  }
 ],
 "metadata": {
  "kernelspec": {
   "display_name": "Python 3",
   "language": "python",
   "name": "python3"
  },
  "language_info": {
   "codemirror_mode": {
    "name": "ipython",
    "version": 3
   },
   "file_extension": ".py",
   "mimetype": "text/x-python",
   "name": "python",
   "nbconvert_exporter": "python",
   "pygments_lexer": "ipython3",
   "version": "3.6.5"
  }
 },
 "nbformat": 4,
 "nbformat_minor": 2
}
